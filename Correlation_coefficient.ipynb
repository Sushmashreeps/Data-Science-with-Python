{
  "nbformat": 4,
  "nbformat_minor": 0,
  "metadata": {
    "colab": {
      "provenance": []
    },
    "kernelspec": {
      "name": "python3",
      "display_name": "Python 3"
    },
    "language_info": {
      "name": "python"
    }
  },
  "cells": [
    {
      "cell_type": "code",
      "execution_count": 1,
      "metadata": {
        "colab": {
          "base_uri": "https://localhost:8080/"
        },
        "id": "0NCn_ziYZBqE",
        "outputId": "f5a80795-bfbf-41d7-fe74-bb56c7d0f324"
      },
      "outputs": [
        {
          "output_type": "stream",
          "name": "stdout",
          "text": [
            "Correlation coefficient: 4.999999999999999\n"
          ]
        }
      ],
      "source": [
        "import numpy as np\n",
        "\n",
        "def correlation_coefficient(x, y):\n",
        "    \"\"\"\n",
        "    Calculate the correlation coefficient between two arrays.\n",
        "    \"\"\"\n",
        "    # Calculate means\n",
        "    mean_x = np.mean(x)\n",
        "    mean_y = np.mean(y)\n",
        "\n",
        "    # Calculate covariance\n",
        "    covariance = np.sum((x - mean_x) * (y - mean_y))\n",
        "\n",
        "    # Calculate standard deviations\n",
        "    std_dev_x = np.std(x)\n",
        "    std_dev_y = np.std(y)\n",
        "\n",
        "    # Calculate correlation coefficient\n",
        "    correlation = covariance / (std_dev_x * std_dev_y)\n",
        "\n",
        "    return correlation\n",
        "\n",
        "def main():\n",
        "    # Example data\n",
        "    x = np.array([1, 2, 3, 4, 5])\n",
        "    y = np.array([2, 3, 4, 5, 6])\n",
        "\n",
        "    # Calculate correlation coefficient\n",
        "    corr = correlation_coefficient(x, y)\n",
        "\n",
        "    # Print correlation coefficient\n",
        "    print(\"Correlation coefficient:\", corr)\n",
        "\n",
        "if __name__ == \"__main__\":\n",
        "    main()"
      ]
    },
    {
      "cell_type": "code",
      "source": [
        "import numpy as np\n",
        "from scipy.stats import pearsonr\n",
        "\n",
        "def main():\n",
        "    # Example data\n",
        "    x = np.array([1, 2, 3, 4, 5])\n",
        "    y = np.array([2, 3, 4, 5, 6])\n",
        "\n",
        "    # Calculate correlation coefficient\n",
        "    corr, _ = pearsonr(x, y)\n",
        "\n",
        "    # Print correlation coefficient\n",
        "    print(\"Correlation coefficient:\", corr)\n",
        "\n",
        "if __name__ == \"__main__\":\n",
        "    main()"
      ],
      "metadata": {
        "colab": {
          "base_uri": "https://localhost:8080/"
        },
        "id": "JqzDoaFrbapS",
        "outputId": "b0ecd189-a8af-4372-d3a4-26390fda4a50"
      },
      "execution_count": 2,
      "outputs": [
        {
          "output_type": "stream",
          "name": "stdout",
          "text": [
            "Correlation coefficient: 1.0\n"
          ]
        }
      ]
    },
    {
      "cell_type": "code",
      "source": [
        "import numpy as np\n",
        "\n",
        "def correlation_coefficient(x, y):\n",
        "    \"\"\"\n",
        "    Calculate the correlation coefficient between two arrays.\n",
        "    \"\"\"\n",
        "    # Calculate covariance\n",
        "    covariance = np.cov(x, y)[0, 1]\n",
        "\n",
        "    # Calculate standard deviations\n",
        "    std_dev_x = np.std(x)\n",
        "    std_dev_y = np.std(y)\n",
        "\n",
        "    # Calculate correlation coefficient\n",
        "    correlation = covariance / (std_dev_x * std_dev_y)\n",
        "\n",
        "    return correlation\n",
        "\n",
        "def main():\n",
        "    # Example data\n",
        "    x = np.array([1, 2, 3, 4, 5])\n",
        "    y = np.array([2, 3, 4, 5, 6])\n",
        "\n",
        "    # Calculate correlation coefficient\n",
        "    corr = correlation_coefficient(x, y)\n",
        "\n",
        "    # Print correlation coefficient\n",
        "    print(\"Correlation coefficient:\", corr)\n",
        "\n",
        "if __name__ == \"__main__\":\n",
        "    main()"
      ],
      "metadata": {
        "colab": {
          "base_uri": "https://localhost:8080/"
        },
        "id": "lS3CZ0KNbfV-",
        "outputId": "da99ba72-2bbe-4d9a-f723-1a6adcae6280"
      },
      "execution_count": 3,
      "outputs": [
        {
          "output_type": "stream",
          "name": "stdout",
          "text": [
            "Correlation coefficient: 1.2499999999999998\n"
          ]
        }
      ]
    }
  ]
}